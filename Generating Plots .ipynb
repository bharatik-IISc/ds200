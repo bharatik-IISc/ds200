{
 "cells": [
  {
   "cell_type": "markdown",
   "metadata": {},
   "source": [
    "'''\n",
    "    In this code we will try to visualize data present in data.gov.in corresponding to air pollution in Delhi\n",
    "    from year 1987 to 2015.\n",
    "    3 types of plots will be shown : Line Plot, Scatter Plot and Box Plot\n",
    "'''\n"
   ]
  },
  {
   "cell_type": "code",
   "execution_count": null,
   "metadata": {},
   "outputs": [],
   "source": []
  },
  {
   "cell_type": "code",
   "execution_count": 11,
   "metadata": {},
   "outputs": [],
   "source": [
    "import numpy as np\n",
    "import pandas as pd\n",
    "import matplotlib.pyplot as plt\n",
    "from pathlib import Path\n",
    "from datetime import datetime, date"
   ]
  },
  {
   "cell_type": "code",
   "execution_count": null,
   "metadata": {},
   "outputs": [],
   "source": []
  },
  {
   "cell_type": "code",
   "execution_count": 13,
   "metadata": {},
   "outputs": [],
   "source": [
    "'''\n",
    "    This function will create a line plot between xdata and ydata.\n",
    "    xdata : X coordinates of data points\n",
    "    ydata : Y corrdinates of data points\n",
    "    opts : Specifies list of possible options\n",
    "        - title : Specify title of the plot\n",
    "        - xlabel : Specify label of X axis of the plot\n",
    "        - ylabel : Specify label of Y axis of the plot\n",
    "        - plot_label : Specify the legend label of the plot\n",
    "        - show_fig : If this is False figure will not been shown (True by defualt)\n",
    "        - save_fig : None/<Path/NameWithExtension>\n",
    "        - reuse_last_fig : plot new data on existing axes given by (fig,ax) as value , None by default\n",
    "'''\n",
    "def create_line_plot(xdata,ydata,opts):\n",
    "    \n",
    "    title = opts.get('title',\"\")\n",
    "    xlabel = opts.get('xlabel',\"\")\n",
    "    ylabel = opts.get('ylabel',\"\")\n",
    "    plot_label = opts.get('plot_label',None)\n",
    "    show_fig = opts.get('show_fig',True)\n",
    "    save_fig = opts.get('save_fig',None)\n",
    "    reuse_last_fig = opts.get('reuse_last_fig',None)\n",
    "    \n",
    "    if reuse_last_fig == None:\n",
    "        fig,ax = plt.subplots()\n",
    "    else:\n",
    "        fig,ax = reuse_last_fig\n",
    "        \n",
    "    # Setting x and y axis labels\n",
    "    ax.set_xlabel(xlabel)\n",
    "    ax.set_ylabel(ylabel)\n",
    "    \n",
    "    # Plotting Data  \n",
    "    ax.plot(xdata,ydata,label=plot_label)\n",
    "    \n",
    "    # Setting Legend\n",
    "    if plot_label is not None:\n",
    "        handles, labels = ax.get_legend_handles_labels()\n",
    "        ax.legend(handles, labels)\n",
    "    \n",
    "    # Setting Title\n",
    "    ax.set_title(title)\n",
    "    \n",
    "    # Save figure according to options\n",
    "    if save_fig is not None:\n",
    "        fig.savefig(save_fig,bbox_inches='tight')\n",
    "    \n",
    "    # Show figure according to options\n",
    "    if show_fig == True:\n",
    "        plt.show()\n",
    "        \n",
    "    \n",
    "    "
   ]
  },
  {
   "cell_type": "code",
   "execution_count": 15,
   "metadata": {},
   "outputs": [],
   "source": [
    "'''\n",
    "    This function will create a scatter plot between xdata and ydata.\n",
    "    xdata : X coordinates of data points\n",
    "    ydata : Y corrdinates of data points\n",
    "    opts : Specifies list of possible options\n",
    "        - title : Specify title of the plot\n",
    "        - xlabel : Specify label of X axis of the plot\n",
    "        - ylabel : Specify label of Y axis of the plot\n",
    "        - plot_label : Specify the legend label of the plot\n",
    "        - show_fig : If this is False figure will not been shown (True by defualt)\n",
    "        - save_fig : None/<Path/NameWithExtension>\n",
    "        - reuse_last_fig : plot new data on existing axes given by (fig,ax) as value , None by default\n",
    "        - xtick_rotation : Rotation of labels of x axis in case they don't fit, By Default 0\n",
    "'''\n",
    "def create_scatter_plot(xdata,ydata,opts):\n",
    "    \n",
    "    title = opts.get('title',\"\")\n",
    "    xlabel = opts.get('xlabel',\"\")\n",
    "    ylabel = opts.get('ylabel',\"\")\n",
    "    plot_label = opts.get('plot_label',None)\n",
    "    show_fig = opts.get('show_fig',True)\n",
    "    save_fig = opts.get('save_fig',None)\n",
    "    reuse_last_fig = opts.get('reuse_last_fig',None)\n",
    "    xtick_rotation = opts.get('xtick_rotation',0)\n",
    "    \n",
    "    \n",
    "    if reuse_last_fig == None:\n",
    "        fig,ax = plt.subplots()\n",
    "    else:\n",
    "        fig,ax = reuse_last_fig\n",
    "        \n",
    "    # Setting x and y axis labels\n",
    "    ax.set_xlabel(xlabel)\n",
    "    ax.set_ylabel(ylabel)\n",
    "    \n",
    "    # Plotting Data  \n",
    "    ax.scatter(xdata,ydata,label=plot_label)\n",
    "    \n",
    "    # Setting Legend\n",
    "    if plot_label is not None:\n",
    "        handles, labels = ax.get_legend_handles_labels()\n",
    "        ax.legend(handles, labels)\n",
    "    \n",
    "    # Setting Title\n",
    "    ax.set_title(title)\n",
    "    \n",
    "    # Rotating X Axis ticks\n",
    "    plt.xticks(rotation=xtick_rotation)\n",
    "    \n",
    "    # Save figure according to options\n",
    "    if save_fig is not None:\n",
    "        fig.savefig(save_fig,bbox_inches='tight')\n",
    "    \n",
    "    # Show figure according to options\n",
    "    if show_fig == True:\n",
    "        plt.show()\n",
    "        \n",
    "    \n",
    "    "
   ]
  },
  {
   "cell_type": "code",
   "execution_count": 17,
   "metadata": {},
   "outputs": [],
   "source": [
    "'''\n",
    "    This function will create a box plot between xdata and ydata.\n",
    "    \n",
    "    ydata : Collection(s) of data points\n",
    "    opts : Specifies list of possible options\n",
    "        - title : Specify title of the plot\n",
    "        - xlabel : Specify label of X axis of the plot\n",
    "        - ylabel : Specify label of Y axis of the plot\n",
    "        - show_fig : If this is False figure will not been shown (True by defualt)\n",
    "        - save_fig : None/<Path/NameWithExtension>\n",
    "        - reuse_last_fig : plot new data on existing axes given by (fig,ax) as value , None by default\n",
    "        - xtick_rotation : Rotation of labels of x axis in case they don't fit, By Default 0\n",
    "        - showfliers : Show outliers, By Default True\n",
    "        - xtick_labels : List of names of categories, By Default range(len(ydata))\n",
    "'''\n",
    "def create_box_plot(ydata,opts):\n",
    "    \n",
    "    title = opts.get('title',\"\")\n",
    "    xlabel = opts.get('xlabel',\"\")\n",
    "    ylabel = opts.get('ylabel',\"\")\n",
    "    show_fig = opts.get('show_fig',True)\n",
    "    save_fig = opts.get('save_fig',None)\n",
    "    reuse_last_fig = opts.get('reuse_last_fig',None)\n",
    "    xtick_rotation = opts.get('xtick_rotation',0)\n",
    "    showfliers = opts.get('showfliers',True)\n",
    "    xtick_labels = opts.get('xtick_labels',range(len(ydata)))\n",
    "    \n",
    "    if reuse_last_fig == None:\n",
    "        fig,ax = plt.subplots()\n",
    "    else:\n",
    "        fig,ax = reuse_last_fig\n",
    "        \n",
    "    # Setting x and y axis labels\n",
    "    ax.set_xlabel(xlabel)\n",
    "    ax.set_ylabel(ylabel)\n",
    "    \n",
    "    # Plotting Data  \n",
    "    ax.boxplot(ydata,showfliers=showfliers)\n",
    "    \n",
    "    \n",
    "    \n",
    "    # Setting Title\n",
    "    ax.set_title(title)\n",
    "    \n",
    "    # Rotating X Axis ticks and Setting its labels\n",
    "    ax.set_xticks(range(1,len(ydata)+1))\n",
    "    ax.set_xticklabels(xtick_labels, rotation=xtick_rotation)\n",
    "    \n",
    "    # Save figure according to options\n",
    "    if save_fig is not None:\n",
    "        fig.savefig(save_fig,bbox_inches='tight')\n",
    "    \n",
    "    # Show figure according to options\n",
    "    if show_fig == True:\n",
    "        plt.show()\n",
    "        \n",
    "    \n",
    "    "
   ]
  },
  {
   "cell_type": "code",
   "execution_count": null,
   "metadata": {},
   "outputs": [],
   "source": []
  },
  {
   "cell_type": "markdown",
   "metadata": {},
   "source": [
    "'''\n",
    "    Understanding the amount of data points collected over the years : Line Plot\n",
    "'''\n"
   ]
  },
  {
   "cell_type": "code",
   "execution_count": 19,
   "metadata": {},
   "outputs": [],
   "source": [
    "year_list = []\n",
    "no_of_data_pts = []\n",
    "year_data = []\n",
    "\n",
    "# Reading through all available data files\n",
    "for year in range(1987,2016):\n",
    "    file_path = './DelhiAirQualityData/csv/cpcb_dly_aq_delhi-'+str(year)+'.csv'\n",
    "    my_file = Path(file_path)\n",
    "    if my_file.is_file():\n",
    "        data = pd.read_csv(file_path)\n",
    "        year_list.append(year)\n",
    "        no_of_data_pts.append(data.shape[0])\n",
    "        year_data.append(data)\n",
    "\n"
   ]
  },
  {
   "cell_type": "code",
   "execution_count": 21,
   "metadata": {},
   "outputs": [
    {
     "name": "stdout",
     "output_type": "stream",
     "text": [
      "Number of raw data points measuring air pollution in Delhi available in the dataset(s)\n"
     ]
    },
    {
     "data": {
      "image/png": "[encoded data removed]",
      "text/plain": [
       "<Figure size 432x288 with 1 Axes>"
      ]
     },
     "metadata": {
      "needs_background": "light"
     },
     "output_type": "display_data"
    }
   ],
   "source": [
    "print(\"Number of raw data points measuring air pollution in Delhi available in the dataset(s)\")\n",
    "\n",
    "# Creating a line plot\n",
    "xdata = year_list\n",
    "ydata = no_of_data_pts\n",
    "\n",
    "plotOptions = {}\n",
    "\n",
    "plotOptions['title'] = \"Trend of data points measuring air pollution in Delhi\"\n",
    "plotOptions['xlabel'] = \"Year \"\n",
    "plotOptions['ylabel'] = \"Number of pollution data points (raw) available\"\n",
    "plotOptions['save_fig'] = \"number_of_data_points_yearly_trend.png\"\n",
    "plotOptions['plot_label'] = \"# data points\"\n",
    "\n",
    "create_line_plot(xdata,ydata,plotOptions)\n",
    "\n",
    "\n"
   ]
  },
  {
   "cell_type": "code",
   "execution_count": null,
   "metadata": {},
   "outputs": [],
   "source": []
  },
  {
   "cell_type": "markdown",
   "metadata": {},
   "source": [
    "'''\n",
    "    Analysing pollutant level variation, over the given year\n",
    "'''\n"
   ]
  },
  {
   "cell_type": "code",
   "execution_count": 23,
   "metadata": {},
   "outputs": [
    {
     "name": "stdout",
     "output_type": "stream",
     "text": [
      "Time Series analysis of concentration of PM 2.5 in Delhi over the year 2015\n"
     ]
    },
    {
     "data": {
      "image/png": "[encoded data removed]",
      "text/plain": [
       "<Figure size 432x288 with 1 Axes>"
      ]
     },
     "metadata": {
      "needs_background": "light"
     },
     "output_type": "display_data"
    }
   ],
   "source": [
    "# Creating a scatter plot\n",
    "year = 2015\n",
    "pollutant = 'PM 2.5'\n",
    "# All possible pollutant values for 2014 and 2015 onwards are 'SO2' , 'NO2' , 'PM 2.5' , 'RSPM/PM10'\n",
    "# All possible pollutant values from 1987 and 2013 onwards are 'SO2' , 'NO2' , 'SPM' , 'RSPM/PM10'\n",
    "\n",
    "print(\"Time Series analysis of concentration of \"+pollutant+\" in Delhi over the year \"+str(year))\n",
    "\n",
    "# Creating a scatter plot\n",
    "focus_data = data[['Sampling Date',pollutant]].dropna()\n",
    "list_of_date_strs = focus_data['Sampling Date']\n",
    "list_of_observation_dates = [datetime.strptime(date_str ,\"%d-%m-%y\").date() for date_str in list_of_date_strs ]\n",
    "data_for_specific_pollutant = focus_data[pollutant]\n",
    "\n",
    "xdata = list_of_observation_dates\n",
    "ydata = data_for_specific_pollutant\n",
    "\n",
    "plotOptions = {}\n",
    "\n",
    "plotOptions['title'] = \"Daily variation of \"+pollutant+\" levels in \"+str(year)+\" in Delhi\"\n",
    "plotOptions['xlabel'] = \"Date \"\n",
    "plotOptions['ylabel'] = \"Reported concentration of \"+pollutant+\"(microgm/m3)\"\n",
    "plotOptions['save_fig'] = \"time_series_pollutant_\"+pollutant+\"_yr_\"+str(year)+\".png\"\n",
    "plotOptions['plot_label'] = pollutant+\" conc. reading taken inside Delhi\"\n",
    "plotOptions['xtick_rotation'] = 60\n",
    "\n",
    "create_scatter_plot(xdata,ydata,plotOptions)"
   ]
  },
  {
   "cell_type": "code",
   "execution_count": null,
   "metadata": {},
   "outputs": [],
   "source": []
  },
  {
   "cell_type": "code",
   "execution_count": null,
   "metadata": {},
   "outputs": [],
   "source": []
  },
  {
   "cell_type": "code",
   "execution_count": null,
   "metadata": {},
   "outputs": [],
   "source": []
  },
  {
   "cell_type": "markdown",
   "metadata": {},
   "source": [
    "'''\n",
    "    Analysing pollutant concentration distribution, monitoring station wise : box plot\n",
    "    Please Note : Station wise analysis available only 2004 onwards\n",
    "'''"
   ]
  },
  {
   "cell_type": "code",
   "execution_count": 24,
   "metadata": {},
   "outputs": [
    {
     "name": "stdout",
     "output_type": "stream",
     "text": [
      "Location wise analysis of concentration of NO2 in Delhi over the year 2015\n"
     ]
    },
    {
     "data": {
      "image/png": "[encoded data removed]",
      "text/plain": [
       "<Figure size 432x288 with 1 Axes>"
      ]
     },
     "metadata": {
      "needs_background": "light"
     },
     "output_type": "display_data"
    }
   ],
   "source": [
    "# Creatign a box plot\n",
    "year = 2015\n",
    "pollutant = 'NO2'\n",
    "# All possible pollutant values for 2014 and 2015 onwards are 'SO2' , 'NO2' , 'PM 2.5' , 'RSPM/PM10'\n",
    "# All possible pollutant values from 1987 and 2013 onwards are 'SO2' , 'NO2' , 'SPM' , 'RSPM/PM10'\n",
    "\n",
    "\n",
    "print(\"Location wise analysis of concentration of \"+pollutant+\" in Delhi over the year \"+str(year))\n",
    "\n",
    "\n",
    "\n",
    "list_of_locations = data['Location of Monitoring Station'].unique()\n",
    "box_plot_data = []\n",
    "box_plot_labels_of_ticks = []\n",
    "\n",
    "\n",
    "\n",
    "for i in range(len(list_of_locations)):\n",
    "    # Filtering data corresponding to a given station\n",
    "    station_data = data[data['Location of Monitoring Station'] == list_of_locations[i]].dropna()\n",
    "    station_data_for_specific_pollutant = station_data[pollutant]\n",
    "    \n",
    "    # If there is any valid data point left in station_data\n",
    "    if len(station_data_for_specific_pollutant)>0:\n",
    "\n",
    "        box_plot_labels_of_ticks.append(list_of_locations[i])\n",
    "        box_plot_data.append(station_data_for_specific_pollutant)\n",
    "\n",
    "ydata = box_plot_data\n",
    "\n",
    "\n",
    "plotOptions = {}\n",
    "\n",
    "plotOptions['title'] = \"Location wise distribution of \"+pollutant+\" in \"+str(year)\n",
    "plotOptions['xlabel'] = \"Locations \"\n",
    "plotOptions['ylabel'] = \"Reported concentration of \"+pollutant +\"(microgm/m3)\"\n",
    "plotOptions['save_fig'] = \"location_wise_pollutant_\"+pollutant+\"_yr_\"+str(year)+\".png\"\n",
    "# plotOptions['plot_label'] = pollutant+\" conc. reading taken inside Delhi\"\n",
    "plotOptions['xtick_rotation'] = 90\n",
    "plotOptions['showfliers'] = False\n",
    "plotOptions['xtick_labels'] = box_plot_labels_of_ticks\n",
    "\n",
    "create_box_plot(ydata,plotOptions)\n",
    "\n",
    "\n",
    "\n",
    "\n",
    "\n",
    "\n"
   ]
  },
  {
   "cell_type": "code",
   "execution_count": null,
   "metadata": {},
   "outputs": [],
   "source": []
  },
  {
   "cell_type": "markdown",
   "metadata": {},
   "source": [
    "'''\n",
    "    Also data credits : \n",
    "    1) Central Pollution Control Board & Ministry of Environment and Forests, 2017, Location wise daily Ambient Air Quality of Delhi for the year 1988, Open Government Data Platform India, 24/04/2017, https://data.gov.in/resources/location-wise-daily-ambient-air-quality-delhi-year-1988. Published under Government Open Data Licence - India: https://data.gov.in/government-open-data-license-india\n",
    "    2) Central Pollution Control Board & Ministry of Environment and Forests, 2017, Location wise monthly Ambient Air Quality of Delhi for the year 2001, Open Government Data Platform India, 24/04/2017, https://data.gov.in/resources/location-wise-monthly-ambient-air-quality-delhi-year-2001. Published under Government Open Data Licence - India: https://data.gov.in/government-open-data-license-india\n",
    "    3) Central Pollution Control Board & Ministry of Environment and Forests, 2017, Location wise daily Ambient Air Quality of Delhi for the year 1994, Open Government Data Platform India, 24/04/2017, https://data.gov.in/resources/location-wise-monthly-ambient-air-quality-delhi-year-1994. Published under Government Open Data Licence - India: https://data.gov.in/government-open-data-license-india\n",
    "    4) Central Pollution Control Board & Ministry of Environment and Forests, 2017, Location wise daily Ambient Air Quality of Delhi for the year 2000, Open Government Data Platform India, 24/04/2017, https://data.gov.in/resources/location-wise-monthly-ambient-air-quality-delhi-year-2000. Published under Government Open Data Licence - India: https://data.gov.in/government-open-data-license-india\n",
    "    5) Central Pollution Control Board & Ministry of Environment and Forests, 2017, Location wise daily Ambient Air Quality of Delhi for the year 1991, Open Government Data Platform India, 24/04/2017, https://data.gov.in/resources/location-wise-monthly-ambient-air-quality-delhi-year-1991. Published under Government Open Data Licence - India: https://data.gov.in/government-open-data-license-india\n",
    "    6) Central Pollution Control Board & Ministry of Environment and Forests, 2017, Location wise daily Ambient Air Quality of Delhi for the year 1997, Open Government Data Platform India, 24/04/2017, https://data.gov.in/resources/location-wise-monthly-ambient-air-quality-delhi-year-1997. Published under Government Open Data Licence - India: https://data.gov.in/government-open-data-license-india\n",
    "    7) Central Pollution Control Board & Ministry of Environment and Forests, 2017, Location wise daily Ambient Air Quality of Delhi for the year 1999, Open Government Data Platform India, 24/04/2017, https://data.gov.in/resources/location-wise-monthly-ambient-air-quality-delhi-year-1999. Published under Government Open Data Licence - India: https://data.gov.in/government-open-data-license-india\n",
    "    8) Central Pollution Control Board & Ministry of Environment and Forests, 2017, Location wise daily Ambient Air Quality of Delhi for the year 2015, Open Government Data Platform India, 24/04/2017, https://data.gov.in/resources/location-wise-daily-ambient-air-quality-delhi-year-2015. Published under Government Open Data Licence - India: https://data.gov.in/government-open-data-license-india\n",
    "    9) Central Pollution Control Board & Ministry of Environment and Forests, 2017, Location wise daily Ambient Air Quality of Delhi for the year 1996, Open Government Data Platform India, 24/04/2017, https://data.gov.in/resources/location-wise-monthly-ambient-air-quality-delhi-year-1996. Published under Government Open Data Licence - India: https://data.gov.in/government-open-data-license-india\n",
    "    10) Central Pollution Control Board & Ministry of Environment and Forests, 2017, Location wise daily Ambient Air Quality of Delhi for the year 2008, Open Government Data Platform India, 24/04/2017, https://data.gov.in/resources/location-wise-daily-ambient-air-quality-delhi-year-2008. Published under Government Open Data Licence - India: https://data.gov.in/government-open-data-license-india\n",
    "    11) Central Pollution Control Board & Ministry of Environment and Forests, 2017, Location wise daily Ambient Air Quality of Delhi for the year 1987, Open Government Data Platform India, 24/04/2017, https://data.gov.in/resources/location-wise-daily-ambient-air-quality-delhi-year-1987. Published under Government Open Data Licence - India: https://data.gov.in/government-open-data-license-india\n",
    "    12) Central Pollution Control Board & Ministry of Environment and Forests, 2017, Location wise daily Ambient Air Quality of Delhi for the year 2012, Open Government Data Platform India, 24/04/2017, https://data.gov.in/resources/location-wise-daily-ambient-air-quality-delhi-year-2012. Published under Government Open Data Licence - India: https://data.gov.in/government-open-data-license-india\n",
    "    13) Central Pollution Control Board & Ministry of Environment and Forests, 2017, Location wise daily Ambient Air Quality of Delhi for the year 2003, Open Government Data Platform India, 24/04/2017, https://data.gov.in/resources/location-wise-daily-ambient-air-quality-delhi-year-2003. Published under Government Open Data Licence - India: https://data.gov.in/government-open-data-license-india\n",
    "    14) Central Pollution Control Board & Ministry of Environment and Forests, 2017, Location wise daily Ambient Air Quality of Delhi for the year 2005, Open Government Data Platform India, 24/04/2017, https://data.gov.in/resources/location-wise-daily-ambient-air-quality-delhi-year-2005. Published under Government Open Data Licence - India: https://data.gov.in/government-open-data-license-india\n",
    "    15) Central Pollution Control Board & Ministry of Environment and Forests, 2017, Location wise daily Ambient Air Quality of Delhi for the year 2013, Open Government Data Platform India, 24/04/2017, https://data.gov.in/resources/location-wise-daily-ambient-air-quality-delhi-year-2013. Published under Government Open Data Licence - India: https://data.gov.in/government-open-data-license-india\n",
    "    16) Central Pollution Control Board & Ministry of Environment and Forests, 2017, Location wise daily Ambient Air Quality of Delhi for the year 2004, Open Government Data Platform India, 24/04/2017, https://data.gov.in/resources/location-wise-daily-ambient-air-quality-delhi-year-2004. Published under Government Open Data Licence - India: https://data.gov.in/government-open-data-license-india\n",
    "    17) Central Pollution Control Board & Ministry of Environment and Forests, 2017, Location wise daily Ambient Air Quality of Delhi for the year 2006, Open Government Data Platform India, 24/04/2017, https://data.gov.in/resources/location-wise-daily-ambient-air-quality-delhi-year-2006. Published under Government Open Data Licence - India: https://data.gov.in/government-open-data-license-india\n",
    "    18) Central Pollution Control Board & Ministry of Environment and Forests, 2017, Location wise daily Ambient Air Quality of Delhi for the year 2014, Open Government Data Platform India, 24/04/2017, https://data.gov.in/resources/location-wise-daily-ambient-air-quality-delhi-year-2014. Published under Government Open Data Licence - India: https://data.gov.in/government-open-data-license-india\n",
    "    19) Central Pollution Control Board & Ministry of Environment and Forests, 2017, Location wise daily Ambient Air Quality of Delhi for the year 1990, Open Government Data Platform India, 24/04/2017, https://data.gov.in/resources/location-wise-monthly-ambient-air-quality-delhi-year-1990. Published under Government Open Data Licence - India: https://data.gov.in/government-open-data-license-india\n",
    "    20) Central Pollution Control Board & Ministry of Environment and Forests, 2017, Location wise daily Ambient Air Quality of Delhi for the year 1993, Open Government Data Platform India, 24/04/2017, https://data.gov.in/resources/location-wise-monthly-ambient-air-quality-delhi-year-1993. Published under Government Open Data Licence - India: https://data.gov.in/government-open-data-license-india\n",
    "    21) Central Pollution Control Board & Ministry of Environment and Forests, 2017, Location wise daily Ambient Air Quality of Delhi for the year 1998, Open Government Data Platform India, 24/04/2017, https://data.gov.in/resources/location-wise-monthly-ambient-air-quality-delhi-year-1998. Published under Government Open Data Licence - India: https://data.gov.in/government-open-data-license-india\n",
    "    22) Central Pollution Control Board & Ministry of Environment and Forests, 2017, Location wise daily Ambient Air Quality of Delhi for the year 1992, Open Government Data Platform India, 24/04/2017, https://data.gov.in/resources/location-wise-monthly-ambient-air-quality-delhi-year-1992. Published under Government Open Data Licence - India: https://data.gov.in/government-open-data-license-india\n",
    "    23) Central Pollution Control Board & Ministry of Environment and Forests, 2017, Location wise daily Ambient Air Quality of Delhi for the year 1995, Open Government Data Platform India, 24/04/2017, https://data.gov.in/resources/location-wise-monthly-ambient-air-quality-delhi-year-1995. Published under Government Open Data Licence - India: https://data.gov.in/government-open-data-license-india\n",
    "    24) Central Pollution Control Board & Ministry of Environment and Forests, 2017, Location wise daily Ambient Air Quality of Delhi for the year 2002, Open Government Data Platform India, 24/04/2017, https://data.gov.in/resources/location-wise-monthly-ambient-air-quality-delhi-year-2002. Published under Government Open Data Licence - India: https://data.gov.in/government-open-data-license-india\n",
    "    25) Central Pollution Control Board & Ministry of Environment and Forests, 2017, Location wise daily Ambient Air Quality of Delhi for the year 2007, Open Government Data Platform India, 24/04/2017, https://data.gov.in/resources/location-wise-daily-ambient-air-quality-delhi-year-2007. Published under Government Open Data Licence - India: https://data.gov.in/government-open-data-license-india\n",
    "    26) Central Pollution Control Board & Ministry of Environment and Forests, 2017, Location wise daily Ambient Air Quality of Delhi for the year 2011, Open Government Data Platform India, 24/04/2017, https://data.gov.in/resources/location-wise-daily-ambient-air-quality-delhi-year-2011. Published under Government Open Data Licence - India: https://data.gov.in/government-open-data-license-india\n",
    "    27) Central Pollution Control Board & Ministry of Environment and Forests, 2017, Location wise daily Ambient Air Quality of Delhi for the year 2009, Open Government Data Platform India, 24/04/2017, https://data.gov.in/resources/location-wise-daily-ambient-air-quality-delhi-year-2009. Published under Government Open Data Licence - India: https://data.gov.in/government-open-data-license-india\n",
    "    \n",
    "    \n",
    "'''"
   ]
  },
  {
   "cell_type": "code",
   "execution_count": null,
   "metadata": {},
   "outputs": [],
   "source": []
  },
  {
   "cell_type": "code",
   "execution_count": null,
   "metadata": {},
   "outputs": [],
   "source": []
  },
  {
   "cell_type": "code",
   "execution_count": null,
   "metadata": {},
   "outputs": [],
   "source": []
  }
 ],
 "metadata": {
  "kernelspec": {
   "display_name": "Python 3",
   "language": "python",
   "name": "python3"
  },
  "language_info": {
   "codemirror_mode": {
    "name": "ipython",
    "version": 3
   },
   "file_extension": ".py",
   "mimetype": "text/x-python",
   "name": "python",
   "nbconvert_exporter": "python",
   "pygments_lexer": "ipython3",
   "version": "3.6.12"
  }
 },
 "nbformat": 4,
 "nbformat_minor": 4
}
